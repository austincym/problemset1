{
  "nbformat": 4,
  "nbformat_minor": 0,
  "metadata": {
    "colab": {
      "provenance": [],
      "authorship_tag": "ABX9TyODLgCqydwMnckAH+FY4szk",
      "include_colab_link": true
    },
    "kernelspec": {
      "name": "python3",
      "display_name": "Python 3"
    },
    "language_info": {
      "name": "python"
    }
  },
  "cells": [
    {
      "cell_type": "markdown",
      "metadata": {
        "id": "view-in-github",
        "colab_type": "text"
      },
      "source": [
        "<a href=\"https://colab.research.google.com/github/austincym/problemset1/blob/main/markdownreportprobset1.ipynb\" target=\"_parent\"><img src=\"https://colab.research.google.com/assets/colab-badge.svg\" alt=\"Open In Colab\"/></a>"
      ]
    },
    {
      "cell_type": "code",
      "execution_count": null,
      "metadata": {
        "id": "IXUqJAu4MIV-"
      },
      "outputs": [],
      "source": [
        "The markdown report\n",
        "\n",
        "---\n",
        "\n",
        "# Python Code Report\n",
        "\n",
        "This report documents a Python script that performs various tasks related to the MNIST dataset and training a random walk model. The code is organized into several sections, each with specific functionalities and operations.\n",
        "\n",
        "## Initial Setup\n",
        "\n",
        "The code begins by importing necessary libraries and setting up the environment. The following actions are taken in this section:\n",
        "\n",
        "- Libraries such as NumPy, Matplotlib, PyTorch, and others are imported for data manipulation and visualization.\n",
        "- The 'wandb' library is installed using pip to support experiment tracking.\n",
        "- GPU-related functions are defined for working with data on CUDA-enabled devices.\n",
        "- Functions for plotting and creating montages of images are defined.\n",
        "\n",
        "## Loading MNIST Dataset\n",
        "\n",
        "The MNIST dataset is loaded in this section using the torchvision library. The following steps are taken:\n",
        "\n",
        "- The training and test sets are loaded using the 'datasets.MNIST' function.\n",
        "- Image data and labels are extracted from the datasets.\n",
        "- Image data is normalized to a range of [0, 1].\n",
        "- The shape of the image data is displayed.\n",
        "\n",
        "## Visualization\n",
        "\n",
        "This section focuses on visualizing the MNIST dataset:\n",
        "\n",
        "- An individual image (from index 3) is selected and displayed.\n",
        "- A montage of a subset of images (from index 125 to 150) is created and shown using the defined montage functions.\n",
        "\n",
        "## Data Preparation\n",
        "\n",
        "The code prepares the data for training:\n",
        "\n",
        "- Image data is reshaped into a flattened format of 784 features.\n",
        "- Data and labels are moved to the GPU (CUDA) for faster computation.\n",
        "- The shape of the 'x' tensor is displayed.\n",
        "- A subset of the transposed 'X' tensor is extracted and displayed.\n",
        "\n",
        "## Training a Random Model\n",
        "\n",
        "The final section trains a random walk model on the MNIST dataset:\n",
        "\n",
        "- A random weight matrix 'M' is initialized.\n",
        "- Matrix multiplication is performed to obtain predictions ('y').\n",
        "- The class with the highest score is selected for each example.\n",
        "- Accuracy is calculated for the selected batch of data.\n",
        "- A loop iterates through the training process:\n",
        "  - A small random step is applied to the weight matrix.\n",
        "  - Predictions are computed with the updated weight matrix.\n",
        "  - Accuracy is calculated for the entire dataset.\n",
        "  - If the accuracy improves, the best model and accuracy are updated and printed.\n",
        "\n",
        "## Conclusion\n",
        "\n",
        "This Python script demonstrates various operations related to the MNIST dataset, including data loading, visualization, data preparation, and model training. The primary objective is to train a random walk model to achieve a minimum accuracy of 75% on the MNIST classification task. The script also incorporates GPU acceleration and provides visualization tools for image data.\n",
        "\n",
        "---"
      ]
    }
  ]
}